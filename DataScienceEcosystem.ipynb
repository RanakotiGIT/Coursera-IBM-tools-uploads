{
 "cells": [
  {
   "cell_type": "raw",
   "id": "dbb6332f-e2b3-4394-9123-bba8dfb195a0",
   "metadata": {},
   "source": [
    "Data Science Tools and Ecosystem"
   ]
  },
  {
   "cell_type": "markdown",
   "id": "d7b28266-89e6-4f74-9891-bff10e782ae9",
   "metadata": {},
   "source": [
    "# In this notebook, Data Science Tools and Ecosystem are summarized."
   ]
  },
  {
   "cell_type": "markdown",
   "id": "b99ca20a-0169-4eca-9684-de7328803451",
   "metadata": {},
   "source": [
    "# **Objectives:**\n",
    "- List popular languages for Data Science.\n",
    "- Overview of commonly used Data Science libraries.\n",
    "- Introduction to Data Science tools and environments.\n",
    "- Examples of arithmetic expressions in Python."
   ]
  },
  {
   "cell_type": "markdown",
   "id": "0c145e89-9601-4dd2-90e7-445812ec39cd",
   "metadata": {},
   "source": [
    "Some of the popular languages that Data Scientists use are:\n",
    "1. Python\n",
    "2. R\n",
    "3. SQL\n",
    "4. Julia\n",
    "5. Java"
   ]
  },
  {
   "cell_type": "markdown",
   "id": "682425cb-5922-4dca-afff-fdee36c51402",
   "metadata": {},
   "source": [
    "Some of the commonly used libraries used by Data Scientists include:\n",
    "1. Pandas  \n",
    "2. NumPy \n",
    "3. Matplotlib \n",
    "4. Scikit-learn\n",
    "5. TensorFlow "
   ]
  },
  {
   "cell_type": "markdown",
   "id": "079e2da0-4bf2-4672-9c9f-3e1169312e58",
   "metadata": {},
   "source": [
    "| Data Science Tools |\n",
    "|--------------------|\n",
    "| Jupyter Notebook   |\n",
    "| RStudio            |\n",
    "| Apache Zeppelin    |\n"
   ]
  },
  {
   "cell_type": "markdown",
   "id": "06c59946-d360-40f4-b7c7-eaafc70369ce",
   "metadata": {},
   "source": [
    "### Below are a few examples of evaluating arithmetic expressions in Python\n"
   ]
  },
  {
   "cell_type": "code",
   "execution_count": 2,
   "id": "013d3f16-5306-475a-84a7-ff83d5910e3b",
   "metadata": {},
   "outputs": [
    {
     "name": "stdout",
     "output_type": "stream",
     "text": [
      "17\n"
     ]
    }
   ],
   "source": [
    "# This a simple arithmetic expression to mutiply then add integers\n",
    "a = 3\n",
    "b = 4\n",
    "c = 5\n",
    "z = (a*b) + c\n",
    "print(z)\n"
   ]
  },
  {
   "cell_type": "code",
   "execution_count": 5,
   "id": "7cfad745-a38c-4fd7-9217-6db76340f328",
   "metadata": {},
   "outputs": [
    {
     "name": "stdout",
     "output_type": "stream",
     "text": [
      "3.3333333333333335 hours\n"
     ]
    }
   ],
   "source": [
    "# This will convert 200 minutes to hours by diving by 60.\n",
    "minutes = 200\n",
    "hours = 200/60\n",
    "print(f\"{hours} hours\")"
   ]
  },
  {
   "cell_type": "markdown",
   "id": "2e1d999a-b7be-4372-bb0b-a40e80c9e0bf",
   "metadata": {},
   "source": [
    "## Author\n",
    "Alok Rawat"
   ]
  },
  {
   "cell_type": "code",
   "execution_count": null,
   "id": "dcdb0588-dd27-4274-a939-0f5d0209bc94",
   "metadata": {},
   "outputs": [],
   "source": []
  }
 ],
 "metadata": {
  "kernelspec": {
   "display_name": "Python 3 (ipykernel)",
   "language": "python",
   "name": "python3"
  },
  "language_info": {
   "codemirror_mode": {
    "name": "ipython",
    "version": 3
   },
   "file_extension": ".py",
   "mimetype": "text/x-python",
   "name": "python",
   "nbconvert_exporter": "python",
   "pygments_lexer": "ipython3",
   "version": "3.11.5"
  }
 },
 "nbformat": 4,
 "nbformat_minor": 5
}
